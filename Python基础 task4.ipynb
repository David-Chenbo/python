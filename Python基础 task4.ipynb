{
 "cells": [
  {
   "cell_type": "markdown",
   "metadata": {},
   "source": [
    "【task4】时长：2天\n",
    "1）函数关键字\n",
    "2）函数的定义\n",
    "3）函数参数与作用域\n",
    "4）函数返回值\n",
    "5）file：打开文件方式（读写两种方式）、文件对象的操作方法、学习对excel及csv文件操作\n",
    "6）os模块\n",
    "7）datetime模块"
   ]
  },
  {
   "cell_type": "markdown",
   "metadata": {},
   "source": [
    "### 函数关键字"
   ]
  },
  {
   "cell_type": "markdown",
   "metadata": {},
   "source": [
    "* python内置的，具有特殊意义的标识符"
   ]
  },
  {
   "cell_type": "code",
   "execution_count": 1,
   "metadata": {
    "collapsed": true
   },
   "outputs": [],
   "source": [
    "import keyword"
   ]
  },
  {
   "cell_type": "markdown",
   "metadata": {},
   "source": [
    "### 函数的定义"
   ]
  },
  {
   "cell_type": "code",
   "execution_count": 7,
   "metadata": {
    "collapsed": false
   },
   "outputs": [
    {
     "name": "stdout",
     "output_type": "stream",
     "text": [
      "hello world\n"
     ]
    }
   ],
   "source": [
    "def sayHello():\n",
    "    print (\"hello world\")\n",
    "sayHello()"
   ]
  },
  {
   "cell_type": "markdown",
   "metadata": {},
   "source": [
    "它如何工作\n",
    "我们使用上面解释的语法定义了一个称为sayHello的函数。这个函数不使用任何参数，因此在圆括号中没有声明任何变量。参数对于函数而言，只是给函数的输入，以便于我们可以传递不同的值给函数，然后得到相应的结果。"
   ]
  },
  {
   "cell_type": "markdown",
   "metadata": {},
   "source": [
    "### 函数参数与作用域"
   ]
  },
  {
   "cell_type": "markdown",
   "metadata": {},
   "source": [
    "函数先定义后调用，分为定义和调用两个阶段。函数的作用域会在定义时确定，也就是在哪定义，作用域在哪个范围\n",
    "\n",
    "return函数的返回值：\n",
    "\n",
    "1.函数都有返回值，但是没有return时，函数返回为None\n",
    "\n",
    "2.return返回的数据类型没有限制，可以返回多个值，以形式，括号可加也可不加，\n",
    "\n",
    "return终止函数的运行，当有多个return时只会返回第一个值\n"
   ]
  },
  {
   "cell_type": "markdown",
   "metadata": {},
   "source": [
    "### 函数的返回值"
   ]
  },
  {
   "cell_type": "markdown",
   "metadata": {},
   "source": [
    "一般说来，函数中是可以进行局部变量的返回的，不然岂不是全部要用全局变量，如果使用了全局变量，那还有必要进行返回吗？那函数就没有它存在的意义了！但是要注意了，这里所谓的局部变量的返回很有内涵，什么样的值才可以进行返回而不出错？\n",
    "\n",
    "其实，只要遵守一句话即可：函数不能返回指向栈内存的指针！\n",
    "\n",
    "为什么？因为返回的都是值拷贝！\n",
    "\n",
    "我们知道，局部变量的作用域是函数内部，函数一旦执行结束，栈上的局部变量会进行销毁，内存得到释放。因此，此时函数返回的是该局部变量的值拷贝，这是没有问题的。但是如果返回的是局部变量的地址，那么返回的只是该局部变量指针的拷贝，而随着函数运行结束，该拷贝指针所指向的栈内存已经被释放，那么指向一个未知区域就会导致调用的错误。\n",
    "\n",
    "那如果返回的指针指向的是堆内存，又会怎么样？\n",
    "\n",
    "这样的使用是没有问题的，在函数内new空间，在函数外delete空间。但是这样并不是一种好的编程风格，尽量在同一个作用域内进行new和delete操作，否则还要调用者手动进行内存的释放，试问这样的接口是不是很烂。如果确实需要这样做，那就传指针进去吧！\n"
   ]
  },
  {
   "cell_type": "markdown",
   "metadata": {},
   "source": [
    "### file：打开文件方式（读写两种方式）、文件对象的操作方法、学习对excel及csv文件操作"
   ]
  },
  {
   "cell_type": "markdown",
   "metadata": {},
   "source": [
    "python进行文件读写的函数是open或file\n",
    "\n",
    "file_handler = open(filename,,mode）"
   ]
  },
  {
   "cell_type": "code",
   "execution_count": null,
   "metadata": {
    "collapsed": false
   },
   "outputs": [],
   "source": [
    "# 读文件\n",
    "read = open(result)\n",
    "        line=read.readline()\n",
    "        while line:\n",
    "              print line\n",
    "              line=read.readline()#如果没有这行会造成死循环\n",
    "        read.close "
   ]
  },
  {
   "cell_type": "code",
   "execution_count": null,
   "metadata": {
    "collapsed": true
   },
   "outputs": [],
   "source": [
    "# 写文件\n",
    "read = file(result,'a+')\n",
    "        read.write(\"\\r\\n\")\n",
    "        read.write(\"thank you\")\n",
    "        read.close"
   ]
  },
  {
   "cell_type": "markdown",
   "metadata": {},
   "source": [
    "### os模块"
   ]
  },
  {
   "cell_type": "code",
   "execution_count": 10,
   "metadata": {
    "collapsed": true
   },
   "outputs": [],
   "source": [
    "#os模块就是对操作系统进行操作，使用该模块必须先导入模块：\n",
    "import os"
   ]
  },
  {
   "cell_type": "code",
   "execution_count": null,
   "metadata": {
    "collapsed": false
   },
   "outputs": [],
   "source": [
    "#getcwd() 获取当前工作目录(当前工作目录默认都是当前文件所在的文件夹)\n",
    "result = os.getcwd()\n",
    "print(result)\n",
    " \n",
    "#chdir()改变当前工作目录\n",
    "os.chdir('/home/sy')\n",
    "result = os.getcwd()\n",
    "print(result)\n",
    " \n",
    "open('02.txt','w')"
   ]
  },
  {
   "cell_type": "code",
   "execution_count": null,
   "metadata": {
    "collapsed": false
   },
   "outputs": [],
   "source": [
    "#操作时如果书写完整的路径则不需要考虑默认工作目录的问题,按照实际书写路径操作\n",
    "open('/home/sy/下载/02.txt','w')\n",
    " \n",
    "#listdir() 获取指定文件夹中所有内容的名称列表\n",
    "result = os.listdir('/home/sy')\n",
    "print(result)\n",
    " \n",
    "#mkdir()  创建文件夹\n",
    "#os.mkdir('girls')\n",
    "#os.mkdir('boys',0o777)\n",
    " \n",
    "#makedirs()  递归创建文件夹\n",
    "#os.makedirs('/home/sy/a/b/c/d')\n",
    " \n",
    "#rmdir() 删除空目录\n",
    "#os.rmdir('girls')\n",
    " \n",
    "#removedirs 递归删除文件夹  必须都是空目录\n",
    "#os.removedirs('/home/sy/a/b/c/d')\n",
    " \n",
    "#rename() 文件或文件夹重命名\n",
    "#os.rename('/home/sy/a','/home/sy/alibaba'\n",
    "#os.rename('02.txt','002.txt')\n",
    " \n",
    "#stat() 获取文件或者文件夹的信息\n",
    "#result = os.stat('/home/sy/PycharmProject/Python3/10.27/01.py)\n",
    "#print(result)\n",
    " \n",
    "#system() 执行系统命令(危险函数)\n",
    "#result = os.system('ls -al')  #获取隐藏文件\n",
    "#print(result)\n",
    " \n",
    "#环境变量\n",
    "'''\n",
    "环境变量就是一些命令的集合\n",
    "操作系统的环境变量就是操作系统在执行系统命令时搜索命令的目录的集合\n",
    "'''\n",
    "#getenv() 获取系统的环境变量\n",
    "result = os.getenv('PATH')\n",
    "print(result.split(':'))\n",
    " \n",
    "#putenv() 将一个目录添加到环境变量中(临时增加仅对当前脚本有效)\n",
    "#os.putenv('PATH','/home/sy/下载')\n",
    "#os.system('syls')\n",
    " \n",
    "#exit() 退出终端的命令\n",
    " \n",
    "#os模块中的常用值\n",
    "#curdir  表示当前文件夹   .表示当前文件夹  一般情况下可以省略\n",
    "print(os.curdir)\n",
    " \n",
    "#pardir  表示上一层文件夹   ..表示上一层文件夹  不可省略!\n",
    "print(os.pardir)\n",
    " \n",
    "#os.mkdir('../../../man')#相对路径  从当前目录开始查找\n",
    "#os.mkdir('/home/sy/man1')#绝对路径  从根目录开始查找\n",
    " \n",
    "#name 获取代表操作系统的名称字符串\n",
    "print(os.name) #posix -> linux或者unix系统  nt -> window系统\n",
    " \n",
    "#sep 获取系统路径间隔符号  window ->\\    linux ->/\n",
    "print(os.sep)\n",
    " \n",
    "#extsep 获取文件名称和后缀之间的间隔符号  window & linux -> .\n",
    "print(os.extsep)\n",
    " \n",
    "#linesep  获取操作系统的换行符号  window -> \\r\\n  linux/unix -> \\n\n",
    "print(repr(os.linesep))"
   ]
  },
  {
   "cell_type": "code",
   "execution_count": null,
   "metadata": {
    "collapsed": false
   },
   "outputs": [],
   "source": [
    " #导入os模块\n",
    "import os\n",
    " \n",
    "#以下内容都是os.path子模块中的内容\n",
    " \n",
    "#abspath()  将相对路径转化为绝对路径\n",
    "path = './boys'#相对\n",
    "result = os.path.abspath(path)\n",
    "print(result)\n",
    " \n",
    "#dirname()  获取完整路径当中的目录部分  &  basename()获取完整路径当中的主体部分\n",
    "path = '/home/sy/boys'\n",
    "result = os.path.dirname(path)\n",
    "print(result)\n",
    " \n",
    "result = os.path.basename(path)\n",
    "print(result)\n",
    " \n",
    "#split() 将一个完整的路径切割成目录部分和主体部分\n",
    "path = '/home/sy/boys'\n",
    "result = os.path.split(path)\n",
    "print(result)\n",
    " \n",
    "#join() 将2个路径合并成一个\n",
    "var1 = '/home/sy'\n",
    "var2 = '000.py'\n",
    "result = os.path.join(var1,var2)\n",
    "print(result)\n",
    " \n",
    "#splitext() 将一个路径切割成文件后缀和其他两个部分,主要用于获取文件的后缀\n",
    "path = '/home/sy/000.py'\n",
    "result = os.path.splitext(path)\n",
    "print(result)\n",
    " \n",
    "#getsize()  获取文件的大小\n",
    "#path = '/home/sy/000.py'\n",
    "#result = os.path.getsize(path)\n",
    "#print(result)\n",
    " \n",
    "#isfile() 检测是否是文件\n",
    "path = '/home/sy/000.py'\n",
    "result = os.path.isfile(path)\n",
    "print(result)\n",
    " \n",
    "#isdir()  检测是否是文件夹\n",
    "result = os.path.isdir(path)\n",
    "print(result)\n",
    " \n",
    "#islink() 检测是否是链接\n",
    "path = '/initrd.img.old'\n",
    "result = os.path.islink(path)\n",
    "print(result)\n",
    " \n",
    "#getctime() 获取文件的创建时间 get create time\n",
    "#getmtime() 获取文件的修改时间 get modify time\n",
    "#getatime() 获取文件的访问时间 get active time\n",
    " \n",
    "import time\n",
    " \n",
    "filepath = '/home/sy/下载/chls'\n",
    " \n",
    "result = os.path.getctime(filepath)\n",
    "print(time.ctime(result))\n",
    " \n",
    "result = os.path.getmtime(filepath)\n",
    "print(time.ctime(result))\n",
    " \n",
    "result = os.path.getatime(filepath)\n",
    "print(time.ctime(result))\n",
    " \n",
    "#exists() 检测某个路径是否真实存在\n",
    "filepath = '/home/sy/下载/chls'\n",
    "result = os.path.exists(filepath)\n",
    "print(result)\n",
    " \n",
    "#isabs() 检测一个路径是否是绝对路径\n",
    "path = '/boys'\n",
    "result = os.path.isabs(path)\n",
    "print(result)\n",
    " \n",
    "#samefile() 检测2个路径是否是同一个文件\n",
    "path1 = '/home/sy/下载/001'\n",
    "path2 = '../../../下载/001'\n",
    "result = os.path.samefile(path1,path2)\n",
    "print(result)\n",
    " \n",
    " \n",
    "#os.environ 用于获取和设置系统环境变量的内置值\n",
    "import os\n",
    "#获取系统环境变量  getenv() 效果\n",
    "print(os.environ['PATH'])\n",
    " \n",
    "#设置系统环境变量 putenv()\n",
    "os.environ['PATH'] += ':/home/sy/下载'\n",
    "os.system('chls')"
   ]
  },
  {
   "cell_type": "markdown",
   "metadata": {},
   "source": [
    "### datetime模块"
   ]
  },
  {
   "cell_type": "markdown",
   "metadata": {},
   "source": [
    "datetime 模块提供了各种类用于操作日期和时间，该模块侧重于高效率的格式化输出\n",
    "\n",
    "在 Python 中，与时间处理有关的模块包括：time，datetime 以及 calendar\n",
    "\n",
    "datetime 模块定义了两个常量：\n",
    "\n",
    "datetime.MINYEAR - date 和 datetime 对象所能支持的最小年份，object.MINYEAR 的值为 1\n",
    "datetime.MAXYEAR - date 和 datetime 对象所能支持的最大年份，object.MAXYEAR 的值为 9999\n",
    "datetime 模块中定义的类（前四个下方有详解）：\n",
    "\n",
    "datetime.date - 表示日期的类，常用属性：year, month, day\n",
    "datetime.time - 表示时间的类，常用属性：hour, minute, second, microsecond, tzinfo\n",
    "datetime.datetime - 表示日期和时间的类，常用属性： year, month, day, hour, minute, second, microsecond, tzinfo\n",
    "datetime.timedelta - 表示时间间隔，即两个时间点（date，time，datetime）之间的长度\n",
    "datetime.tzinfo - 表示时区的基类，为上方的 time 和 datetime 类提供调整的基准\n",
    "datetime.timezone - 表示 UTC 时区的固定偏移，是 tzinfo 基类的实现y"
   ]
  }
 ],
 "metadata": {
  "anaconda-cloud": {},
  "kernelspec": {
   "display_name": "Python [conda root]",
   "language": "python",
   "name": "conda-root-py"
  },
  "language_info": {
   "codemirror_mode": {
    "name": "ipython",
    "version": 3
   },
   "file_extension": ".py",
   "mimetype": "text/x-python",
   "name": "python",
   "nbconvert_exporter": "python",
   "pygments_lexer": "ipython3",
   "version": "3.5.2"
  }
 },
 "nbformat": 4,
 "nbformat_minor": 1
}
