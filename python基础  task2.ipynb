{
 "cells": [
  {
   "cell_type": "markdown",
   "metadata": {},
   "source": [
    "`【task2】时长：2天\n",
    "1）列表：标志、基本操作(创建，append( )，pop( ) ,del( ), 拷贝）、列表相关方法\n",
    "2）元组：标志、基本操作（创建及不可变性）\n",
    "3）string字符串：定义及基本操作（+，*，读取方式）、字符串相关方法、字符串格式化问题"
   ]
  },
  {
   "cell_type": "markdown",
   "metadata": {},
   "source": [
    "### 列表"
   ]
  },
  {
   "cell_type": "markdown",
   "metadata": {},
   "source": [
    "* 列表（list）是最常用的python数据类型，创建列表的标志如下：[]"
   ]
  },
  {
   "cell_type": "code",
   "execution_count": 13,
   "metadata": {},
   "outputs": [
    {
     "data": {
      "text/plain": [
       "['中国', '美国', '加拿大']"
      ]
     },
     "execution_count": 13,
     "metadata": {},
     "output_type": "execute_result"
    }
   ],
   "source": [
    "list = ['中国','美国','加拿大']\n",
    "list"
   ]
  },
  {
   "cell_type": "markdown",
   "metadata": {},
   "source": [
    "* 基本操作(创建，append( )，pop( ) ,del( ), 拷贝）"
   ]
  },
  {
   "cell_type": "code",
   "execution_count": 14,
   "metadata": {},
   "outputs": [
    {
     "data": {
      "text/plain": [
       "['中国', '美国', '加拿大']"
      ]
     },
     "execution_count": 14,
     "metadata": {},
     "output_type": "execute_result"
    }
   ],
   "source": [
    "# 创建一个列表\n",
    "list = ['中国','美国','加拿大']\n",
    "list"
   ]
  },
  {
   "cell_type": "code",
   "execution_count": 15,
   "metadata": {},
   "outputs": [
    {
     "data": {
      "text/plain": [
       "['中国', '美国', '加拿大', 1999, 1587, 7894, 2005]"
      ]
     },
     "execution_count": 15,
     "metadata": {},
     "output_type": "execute_result"
    }
   ],
   "source": [
    "# append（）方法 ,即在列表末尾添加元素\n",
    "list1 = ['中国','美国','加拿大', 1999, 1587, 7894]\n",
    "list1.append(2005)\n",
    "list1"
   ]
  },
  {
   "cell_type": "code",
   "execution_count": 16,
   "metadata": {
    "scrolled": true
   },
   "outputs": [
    {
     "name": "stdout",
     "output_type": "stream",
     "text": [
      "['中国', '加拿大']\n"
     ]
    }
   ],
   "source": [
    "# pop()方法即删除指定位置的元素\n",
    "list.pop(1)\n",
    "print (list)"
   ]
  },
  {
   "cell_type": "code",
   "execution_count": 17,
   "metadata": {},
   "outputs": [
    {
     "data": {
      "text/plain": [
       "['中国', '加拿大']"
      ]
     },
     "execution_count": 17,
     "metadata": {},
     "output_type": "execute_result"
    }
   ],
   "source": [
    "list"
   ]
  },
  {
   "cell_type": "code",
   "execution_count": 18,
   "metadata": {},
   "outputs": [
    {
     "name": "stdout",
     "output_type": "stream",
     "text": [
      "['中国', '美国', 1999, 1587, 7894]\n"
     ]
    }
   ],
   "source": [
    "# del(),即删除列表元素\n",
    "list1 = ['中国','美国','加拿大', 1999, 1587, 7894]\n",
    "del list1[2]\n",
    "print (list1)"
   ]
  },
  {
   "cell_type": "code",
   "execution_count": 19,
   "metadata": {},
   "outputs": [
    {
     "name": "stdout",
     "output_type": "stream",
     "text": [
      "listA =  ['aaa', 'bbb', 'ccc']\n",
      "listB =  ['aaa', 'bbb', 'ccc']\n",
      "after listA =  ['aaa', 'bbb', 'ccc', 'ddd']\n",
      "after listB =  ['aaa', 'bbb', 'ccc', 'eee']\n"
     ]
    }
   ],
   "source": [
    "# 拷贝 python提供了一种全新的拷贝模式，那就是‘切片’\n",
    "listA=[\"aaa\",\"bbb\",\"ccc\"]\n",
    "listB=listA[:]\n",
    "print(\"listA = \",listA)\n",
    "print(\"listB = \",listB)\n",
    "\n",
    "listA.append(\"ddd\")\n",
    "listB.append(\"eee\")\n",
    "\n",
    "print(\"after listA = \",listA)\n",
    "print(\"after listB = \",listB)"
   ]
  },
  {
   "cell_type": "markdown",
   "metadata": {},
   "source": [
    "### 元组 "
   ]
  },
  {
   "cell_type": "markdown",
   "metadata": {},
   "source": [
    "* python的元组（Tuple）与列表类似，不同之处在于元组的元素不能修改，标志是小括号（）"
   ]
  },
  {
   "cell_type": "code",
   "execution_count": 21,
   "metadata": {},
   "outputs": [
    {
     "data": {
      "text/plain": [
       "('中国', '美国', '加拿大', 1999, 1587, 7894)"
      ]
     },
     "execution_count": 21,
     "metadata": {},
     "output_type": "execute_result"
    }
   ],
   "source": [
    "# 创建元组\n",
    "tup1 = ('中国','美国','加拿大', 1999, 1587, 7894)\n",
    "tup1"
   ]
  },
  {
   "cell_type": "code",
   "execution_count": 22,
   "metadata": {},
   "outputs": [
    {
     "ename": "TypeError",
     "evalue": "'tuple' object does not support item assignment",
     "output_type": "error",
     "traceback": [
      "\u001b[1;31m---------------------------------------------------------------------------\u001b[0m",
      "\u001b[1;31mTypeError\u001b[0m                                 Traceback (most recent call last)",
      "\u001b[1;32m<ipython-input-22-5acda10ec450>\u001b[0m in \u001b[0;36m<module>\u001b[1;34m()\u001b[0m\n\u001b[0;32m      2\u001b[0m \u001b[0mtup2\u001b[0m \u001b[1;33m=\u001b[0m \u001b[1;33m(\u001b[0m\u001b[1;36m12\u001b[0m\u001b[1;33m,\u001b[0m \u001b[1;36m36\u001b[0m\u001b[1;33m,\u001b[0m \u001b[1;36m56\u001b[0m\u001b[1;33m)\u001b[0m\u001b[1;33m\u001b[0m\u001b[0m\n\u001b[0;32m      3\u001b[0m \u001b[0mtup3\u001b[0m \u001b[1;33m=\u001b[0m \u001b[1;33m(\u001b[0m\u001b[1;36m78\u001b[0m\u001b[1;33m,\u001b[0m \u001b[1;36m98\u001b[0m\u001b[1;33m)\u001b[0m\u001b[1;33m\u001b[0m\u001b[0m\n\u001b[1;32m----> 4\u001b[1;33m \u001b[0mtup2\u001b[0m\u001b[1;33m[\u001b[0m\u001b[1;36m0\u001b[0m\u001b[1;33m]\u001b[0m \u001b[1;33m=\u001b[0m \u001b[1;36m12\u001b[0m\u001b[1;33m\u001b[0m\u001b[0m\n\u001b[0m\u001b[0;32m      5\u001b[0m \u001b[0mtup4\u001b[0m \u001b[1;33m=\u001b[0m \u001b[0mtup2\u001b[0m \u001b[1;33m+\u001b[0m \u001b[0mtup3\u001b[0m\u001b[1;33m\u001b[0m\u001b[0m\n",
      "\u001b[1;31mTypeError\u001b[0m: 'tuple' object does not support item assignment"
     ]
    }
   ],
   "source": [
    "# 元组中的元素值是不允许修改的\n",
    "tup2 = (12, 36, 56)\n",
    "tup3 = (78, 98)\n",
    "tup2[0] = 12\n",
    "tup4 = tup2 + tup3 "
   ]
  },
  {
   "cell_type": "markdown",
   "metadata": {},
   "source": [
    "### 字符串"
   ]
  },
  {
   "cell_type": "markdown",
   "metadata": {},
   "source": [
    "* 定义及基本操作（+，*，读取方式）、字符串相关方法、字符串格式化问题"
   ]
  },
  {
   "cell_type": "markdown",
   "metadata": {},
   "source": [
    "###### 定义：字符串是python中最常用的数据类型，可以使用引号来创建字符串。python不支持字符类型，单字符在python中也是作为一个字符串使用 "
   ]
  },
  {
   "cell_type": "code",
   "execution_count": 26,
   "metadata": {},
   "outputs": [
    {
     "name": "stdout",
     "output_type": "stream",
     "text": [
      "hello world\n",
      "python programming\n"
     ]
    }
   ],
   "source": [
    "# 创建和访问字符串\n",
    "var1 = 'hello world'\n",
    "var2 = 'python programming'\n",
    "print (var1)\n",
    "print (var2)"
   ]
  },
  {
   "cell_type": "code",
   "execution_count": 27,
   "metadata": {},
   "outputs": [
    {
     "data": {
      "text/plain": [
       "'hello worldpython programming'"
      ]
     },
     "execution_count": 27,
     "metadata": {},
     "output_type": "execute_result"
    }
   ],
   "source": [
    "var1 + var2 "
   ]
  },
  {
   "cell_type": "code",
   "execution_count": 28,
   "metadata": {},
   "outputs": [
    {
     "data": {
      "text/plain": [
       "'hello worldhello world'"
      ]
     },
     "execution_count": 28,
     "metadata": {},
     "output_type": "execute_result"
    }
   ],
   "source": [
    "var1* 2"
   ]
  },
  {
   "cell_type": "code",
   "execution_count": 29,
   "metadata": {},
   "outputs": [
    {
     "data": {
      "text/plain": [
       "'h'"
      ]
     },
     "execution_count": 29,
     "metadata": {},
     "output_type": "execute_result"
    }
   ],
   "source": [
    "var1[0]"
   ]
  },
  {
   "cell_type": "code",
   "execution_count": 30,
   "metadata": {},
   "outputs": [
    {
     "data": {
      "text/plain": [
       "'ytho'"
      ]
     },
     "execution_count": 30,
     "metadata": {},
     "output_type": "execute_result"
    }
   ],
   "source": [
    "var2[1:5]"
   ]
  },
  {
   "cell_type": "markdown",
   "metadata": {},
   "source": [
    "##### 字符串格式化"
   ]
  },
  {
   "cell_type": "markdown",
   "metadata": {},
   "source": [
    "* python支持格式化字符串的输出。在python中，字符串格式化使用与C语言中printf()函数类似的语法"
   ]
  },
  {
   "cell_type": "code",
   "execution_count": 31,
   "metadata": {},
   "outputs": [
    {
     "name": "stdout",
     "output_type": "stream",
     "text": [
      "我的名字是 xmj 年龄是 41\n"
     ]
    }
   ],
   "source": [
    "print (\"我的名字是 %s 年龄是 %d\" %('xmj', 41))"
   ]
  },
  {
   "cell_type": "code",
   "execution_count": 33,
   "metadata": {},
   "outputs": [
    {
     "name": "stdout",
     "output_type": "stream",
     "text": [
      "ASCII码65代表：A\n",
      "ASCII码66代表：B\n",
      "转化为十进制分别为：255和 43779\n"
     ]
    }
   ],
   "source": [
    "charA = 65\n",
    "charB = 66\n",
    "print(\"ASCII码65代表：%c\" % charA)\n",
    "print(\"ASCII码66代表：%c\" % charB)\n",
    "Num1 = 0xFF\n",
    "Num2 = 0xAB03\n",
    "print('转化为十进制分别为：%d和 %d'%(Num1,Num2))"
   ]
  }
 ],
 "metadata": {
  "anaconda-cloud": {},
  "kernelspec": {
   "display_name": "Python [conda root]",
   "language": "python",
   "name": "conda-root-py"
  },
  "language_info": {
   "codemirror_mode": {
    "name": "ipython",
    "version": 3
   },
   "file_extension": ".py",
   "mimetype": "text/x-python",
   "name": "python",
   "nbconvert_exporter": "python",
   "pygments_lexer": "ipython3",
   "version": "3.5.5"
  }
 },
 "nbformat": 4,
 "nbformat_minor": 2
}
