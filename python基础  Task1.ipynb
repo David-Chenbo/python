{
 "cells": [
  {
   "cell_type": "markdown",
   "metadata": {},
   "source": [
    "# Task 1"
   ]
  },
  {
   "cell_type": "markdown",
   "metadata": {},
   "source": [
    "####  时长：2天\n",
    "* 1）环境搭建：anaconda环境配置、解释器\n",
    "* 2）python初体验：print and input\n",
    "* 3）python基础讲解：python变量特性+命名规则、注释方法、python中“：”作用、学会使用dir( )及和help( )、import使用、pep8介绍\n",
    "* 4）python数值基本知识：python中数值类型（int，float，bool，e记法等）、算数运算符、逻辑运算符、成员运算符、身份运算符、运算符"
   ]
  },
  {
   "cell_type": "markdown",
   "metadata": {},
   "source": [
    "### 1）环境搭建：anaconda环境配置、解释器\n",
    "* 使用spyder 3.3.4。python语言的版本是3.5。\n",
    "* python是一种解释型语言，需要解释器来处理。而相对的C和C++则是编译型语言，需要编译器。（编译型语言需要编译器将目标文件转换为与机器CPU架构相匹配的目标代码、库文件要与操作系统匹配，所以不能跨平台运行。与之相对应的解释型语言只需要不同平台的不同解释器即可。也就是说开发者不需要考虑每个平台的不同编译方式。）\n",
    "解释器对源代码逐句分析，而且会形成中间代码，所以效率略低。改进的方式比如说保存已经编译为本地机器指令的代码，再次出现时可以直接使用解释的结果。（Just-In-Time compiler）python代码编辑后得到以.py为扩展名的文本文件，而这时需要python解释器来执行.py文件。使用最广的是官方版本的解释器CPython，在命令行下运行python就使用了这个解释器。ipython则在CPython的基础上增强了交互（anaconda里面的spyder应该使用的是这个解释器）\n",
    "\n",
    "* 编译器与解释器异同\n",
    "* 解释器是一条一条的解释执行源语言。比如php，postscritp，javascript就是典型的解释性语言。编译器是把源代码整个编译成目标代码，执行时不在需要编译器，直接在支持目标代码的平台上运行，这样执行效率比解释执行快很多。比如C语言代码被编译成二进制代码（exe程序），在windows平台上执行。"
   ]
  },
  {
   "cell_type": "markdown",
   "metadata": {},
   "source": [
    "### 2）python初体验：print and input"
   ]
  },
  {
   "cell_type": "code",
   "execution_count": 7,
   "metadata": {},
   "outputs": [
    {
     "name": "stdout",
     "output_type": "stream",
     "text": [
      "这是一门学习python的课程\n"
     ]
    }
   ],
   "source": [
    "print(\"这是一门学习python的课程\")"
   ]
  },
  {
   "cell_type": "code",
   "execution_count": 9,
   "metadata": {},
   "outputs": [
    {
     "name": "stdout",
     "output_type": "stream",
     "text": [
      "please input a number: 56\n",
      "56\n"
     ]
    }
   ],
   "source": [
    "print(input(\"please input a number: \"))"
   ]
  },
  {
   "cell_type": "markdown",
   "metadata": {},
   "source": [
    "### 3）python基础讲解"
   ]
  },
  {
   "cell_type": "markdown",
   "metadata": {},
   "source": [
    "####  python变量特性+命名规则\n",
    "* 变量名只能包含字母、数字和下划线;变量名可以以字母或下划线开头，不能以数字开头;变量名中间不可以有空格;不要将python关键字和函数名用做变量名;变量名需精简和具有描述性。\n"
   ]
  },
  {
   "cell_type": "markdown",
   "metadata": {},
   "source": [
    "#### python中“：”作用\n",
    "\n",
    "* 冒号： 用于定义分片、步长。\n",
    "* a[ : n]表示从第0个元素到第n个元素(不包括n)，a[1: ] 表示该列表中的第1个元素到最后一个元素。\n",
    "* list1[:3:2]，tul1[3:6:2]（注意3：6是索引第3至5，不包含6m\n",
    "* L[2] 读取列表中第三个元素，也即第2个元素\n",
    "* L[-2] 读取列表中倒数第二个元素\n",
    "* L[1:] 从第二个元素开始截取列表"
   ]
  },
  {
   "cell_type": "code",
   "execution_count": 4,
   "metadata": {},
   "outputs": [],
   "source": [
    "list1 = ['physics', 'chemistry', 1997, 2000]\n",
    "list2 = [1, 2, 3, 4, 5, 6, 7 ]"
   ]
  },
  {
   "cell_type": "code",
   "execution_count": 5,
   "metadata": {},
   "outputs": [
    {
     "data": {
      "text/plain": [
       "[2, 3, 4, 5]"
      ]
     },
     "execution_count": 5,
     "metadata": {},
     "output_type": "execute_result"
    }
   ],
   "source": [
    "list2[1:5]"
   ]
  },
  {
   "cell_type": "code",
   "execution_count": 6,
   "metadata": {},
   "outputs": [
    {
     "data": {
      "text/plain": [
       "[1997]"
      ]
     },
     "execution_count": 6,
     "metadata": {},
     "output_type": "execute_result"
    }
   ],
   "source": [
    "list1[2:6:3]"
   ]
  },
  {
   "cell_type": "markdown",
   "metadata": {},
   "source": [
    "### 学会使用dir( )及和help( )\n",
    "dir() 函数不带参数时，返回当前范围内的变量、方法和定义的类型列表；带参数时，返回参数的属性、方法列表。如果参数包含方法__dir__()，该方法将被调用。如果参数不包含__dir__()，该方法将最大限度地收集参数信息。"
   ]
  },
  {
   "cell_type": "markdown",
   "metadata": {},
   "source": [
    " dir([object])\n",
    "* object -- 对象、变量、类型"
   ]
  },
  {
   "cell_type": "code",
   "execution_count": 8,
   "metadata": {},
   "outputs": [
    {
     "data": {
      "text/plain": [
       "['In',\n",
       " 'Out',\n",
       " '_',\n",
       " '_5',\n",
       " '_6',\n",
       " '__',\n",
       " '___',\n",
       " '__builtin__',\n",
       " '__builtins__',\n",
       " '__doc__',\n",
       " '__loader__',\n",
       " '__name__',\n",
       " '__package__',\n",
       " '__spec__',\n",
       " '_dh',\n",
       " '_i',\n",
       " '_i1',\n",
       " '_i2',\n",
       " '_i3',\n",
       " '_i4',\n",
       " '_i5',\n",
       " '_i6',\n",
       " '_i7',\n",
       " '_i8',\n",
       " '_ih',\n",
       " '_ii',\n",
       " '_iii',\n",
       " '_oh',\n",
       " 'exit',\n",
       " 'get_ipython',\n",
       " 'json',\n",
       " 'list1',\n",
       " 'list2',\n",
       " 'quit',\n",
       " 'yapf_reformat']"
      ]
     },
     "execution_count": 8,
     "metadata": {},
     "output_type": "execute_result"
    }
   ],
   "source": [
    "dir() "
   ]
  },
  {
   "cell_type": "code",
   "execution_count": 9,
   "metadata": {},
   "outputs": [
    {
     "data": {
      "text/plain": [
       "['__add__',\n",
       " '__class__',\n",
       " '__contains__',\n",
       " '__delattr__',\n",
       " '__delitem__',\n",
       " '__dir__',\n",
       " '__doc__',\n",
       " '__eq__',\n",
       " '__format__',\n",
       " '__ge__',\n",
       " '__getattribute__',\n",
       " '__getitem__',\n",
       " '__gt__',\n",
       " '__hash__',\n",
       " '__iadd__',\n",
       " '__imul__',\n",
       " '__init__',\n",
       " '__iter__',\n",
       " '__le__',\n",
       " '__len__',\n",
       " '__lt__',\n",
       " '__mul__',\n",
       " '__ne__',\n",
       " '__new__',\n",
       " '__reduce__',\n",
       " '__reduce_ex__',\n",
       " '__repr__',\n",
       " '__reversed__',\n",
       " '__rmul__',\n",
       " '__setattr__',\n",
       " '__setitem__',\n",
       " '__sizeof__',\n",
       " '__str__',\n",
       " '__subclasshook__',\n",
       " 'append',\n",
       " 'clear',\n",
       " 'copy',\n",
       " 'count',\n",
       " 'extend',\n",
       " 'index',\n",
       " 'insert',\n",
       " 'pop',\n",
       " 'remove',\n",
       " 'reverse',\n",
       " 'sort']"
      ]
     },
     "execution_count": 9,
     "metadata": {},
     "output_type": "execute_result"
    }
   ],
   "source": [
    "dir([ ]) "
   ]
  },
  {
   "cell_type": "code",
   "execution_count": null,
   "metadata": {},
   "outputs": [
    {
     "name": "stdout",
     "output_type": "stream",
     "text": [
      "\n",
      "Welcome to Python 3.5's help utility!\n",
      "\n",
      "If this is your first time using Python, you should definitely check out\n",
      "the tutorial on the Internet at http://docs.python.org/3.5/tutorial/.\n",
      "\n",
      "Enter the name of any module, keyword, or topic to get help on writing\n",
      "Python programs and using Python modules.  To quit this help utility and\n",
      "return to the interpreter, just type \"quit\".\n",
      "\n",
      "To get a list of available modules, keywords, symbols, or topics, type\n",
      "\"modules\", \"keywords\", \"symbols\", or \"topics\".  Each module also comes\n",
      "with a one-line summary of what it does; to list the modules whose name\n",
      "or summary contain a given string such as \"spam\", type \"modules spam\".\n",
      "\n",
      "help> sort\n",
      "No Python documentation found for 'sort'.\n",
      "Use help() to get the interactive help utility.\n",
      "Use help(str) for help on the str class.\n",
      "\n",
      "help> pop\n",
      "No Python documentation found for 'pop'.\n",
      "Use help() to get the interactive help utility.\n",
      "Use help(str) for help on the str class.\n",
      "\n",
      "help> max\n",
      "Help on built-in function max in module builtins:\n",
      "\n",
      "max(...)\n",
      "    max(iterable, *[, default=obj, key=func]) -> value\n",
      "    max(arg1, arg2, *args, *[, key=func]) -> value\n",
      "    \n",
      "    With a single iterable argument, return its biggest item. The\n",
      "    default keyword-only argument specifies an object to return if\n",
      "    the provided iterable is empty.\n",
      "    With two or more arguments, return the largest argument.\n",
      "\n",
      "help> min\n",
      "Help on built-in function min in module builtins:\n",
      "\n",
      "min(...)\n",
      "    min(iterable, *[, default=obj, key=func]) -> value\n",
      "    min(arg1, arg2, *args, *[, key=func]) -> value\n",
      "    \n",
      "    With a single iterable argument, return its smallest item. The\n",
      "    default keyword-only argument specifies an object to return if\n",
      "    the provided iterable is empty.\n",
      "    With two or more arguments, return the smallest argument.\n",
      "\n"
     ]
    }
   ],
   "source": [
    "help()"
   ]
  },
  {
   "cell_type": "markdown",
   "metadata": {},
   "source": [
    "* import使用、pep8介绍"
   ]
  },
  {
   "cell_type": "code",
   "execution_count": null,
   "metadata": {},
   "outputs": [],
   "source": [
    "import numpy  # 导入一个数值计算的包\n",
    "import pandas"
   ]
  },
  {
   "cell_type": "code",
   "execution_count": null,
   "metadata": {},
   "outputs": [],
   "source": [
    "#### pep8介绍：\n",
    "　PEP8是针对python代码格式而编订的风格指南，采用一致的编码风格可以令代码更加易懂易读！\n",
    "\n",
    "（1）空白：\n",
    "　python中空白会影响代码的含义及其代码的清晰程度\n",
    "\n",
    "使用space(空格)进行缩进，不采用tab\n",
    "每一层缩进都用4个空格表示\n",
    "每行字符数不超过79\n",
    "占据多行的长表达式，每一层的缩进都应该在上一层基础上再加4个空格\n",
    "文件中函数和类之间用两个空行隔开\n",
    "同一个类中，各个方法之间应该用一个空行隔开\n",
    "为变量赋值的时候，赋值符号两侧应该各自加上一个空格\n",
    "（2）命名：\n",
    "　　　　　采用不同的命名风格来编写python代码，以便在阅读源码时可以根据名称看出它们在python语言语言中代表的角色\n",
    "\n",
    "函数，变量，属性使用小写字母拼写，各单词之间采用下划线相连，如extrct_title ,extrct_content.\n",
    "受保护的实例属性，以单个下划线开头，如_set_content\n",
    "私有的实例属性，以两个下划线开头，如__double_set_title\n",
    "类与异常，以每个单词首字母大写，如CapWord\n",
    "模块级别的常量，全部大写，单词间采用下划线相连，如ALL_SYSTEM_ENCODE\n",
    "类方法中的首个参数，命名为cls，以表示该类自身\n",
    "（3）表达式与语句：\n",
    "python文件中的import语句应该放在文件开头\n",
    "import语句应该分为三部分，标准库模块，第三方模块，自用模块，每一部分的import语句应该按模块的字母顺序排列\n",
    "引入模块，应该采用绝对名称：from bar import foo ，而不是import foo\n",
    "不编写单行的if ，for， while，except复合语句"
   ]
  },
  {
   "cell_type": "markdown",
   "metadata": {},
   "source": [
    "### 4）python数值基本知识"
   ]
  },
  {
   "cell_type": "markdown",
   "metadata": {},
   "source": [
    "* python中数值类型（int，float，bool，e记法等）"
   ]
  },
  {
   "cell_type": "markdown",
   "metadata": {},
   "source": [
    "Python 数值类型包括整型（integer），浮点型（floating point number）和复数（complex number），并且，布尔型（boolean）是整型的子类\n",
    "其中，最常用的数值类型包括整型，浮点型和布尔型。\n"
   ]
  },
  {
   "cell_type": "markdown",
   "metadata": {},
   "source": [
    "* 算数运算符、逻辑运算符、成员运算符、身份运算符、运算符"
   ]
  },
  {
   "cell_type": "markdown",
   "metadata": {},
   "source": [
    "https://baijiahao.baidu.com/s?id=1624320781369988624&wfr=spider&for=pc"
   ]
  },
  {
   "cell_type": "code",
   "execution_count": null,
   "metadata": {},
   "outputs": [],
   "source": [
    "运算符用于执行程序代码运算。例如：2+3，其操作数是2和3，而运算符则是”+”。在计算器语言中运算符大致可以分为6种类型：算数运算符、连接运算符、比较（关系）运算符、位运算符、赋值运算符和逻辑运算符。\n",
    "\n",
    "在python3的交互环境中执行下面的操作，理解Python3中的运算符：\n",
    "\n",
    "a = 10\n",
    "\n",
    "b = 10.6\n",
    "\n",
    "e = a + b\n",
    "\n",
    "print(e)\n",
    "\n",
    "f = b/a\n",
    "\n",
    "print(f)\n",
    "\n",
    "g = b – a\n",
    "\n",
    "print(g)\n",
    "\n",
    "h = b * a\n",
    "\n",
    "print(h)\n",
    "\n",
    "可以看到整数和浮点数的混合计算中，整数会被转换为浮点数。"
   ]
  }
 ],
 "metadata": {
  "anaconda-cloud": {},
  "kernelspec": {
   "display_name": "Python [conda root]",
   "language": "python",
   "name": "conda-root-py"
  },
  "language_info": {
   "codemirror_mode": {
    "name": "ipython",
    "version": 3
   },
   "file_extension": ".py",
   "mimetype": "text/x-python",
   "name": "python",
   "nbconvert_exporter": "python",
   "pygments_lexer": "ipython3",
   "version": "3.5.5"
  }
 },
 "nbformat": 4,
 "nbformat_minor": 2
}
