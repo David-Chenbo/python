{
 "cells": [
  {
   "cell_type": "markdown",
   "metadata": {},
   "source": [
    "【task3】时长：2天\n",
    "1）dict字典：定义、创建、字典的方法\n",
    "2）集合：特性、创建、方法\n",
    "3）判断语句（要求掌握多条件判断）\n",
    "4）三目表达式\n",
    "5）循环语句"
   ]
  },
  {
   "cell_type": "markdown",
   "metadata": {},
   "source": [
    "### 字典"
   ]
  },
  {
   "cell_type": "markdown",
   "metadata": {},
   "source": [
    "* python字典（Dict）是一种可变容器模型，且可存储任意类型的对象，如字符串、数字、元组等其他容器。"
   ]
  },
  {
   "cell_type": "code",
   "execution_count": null,
   "metadata": {
    "collapsed": false
   },
   "outputs": [],
   "source": [
    "# 创建字典\n",
    "d = {key1 : value1,key2 :  value2}"
   ]
  },
  {
   "cell_type": "code",
   "execution_count": 31,
   "metadata": {
    "collapsed": false,
    "scrolled": false
   },
   "outputs": [
    {
     "name": "stdout",
     "output_type": "stream",
     "text": [
      "dict['xmj'] =  40\n"
     ]
    }
   ],
   "source": [
    "dict = {'xmj' : 40,'zhang' : 91,'wang': 80}\n",
    "print(\"dict['xmj'] = \",dict['xmj'])"
   ]
  },
  {
   "cell_type": "code",
   "execution_count": 28,
   "metadata": {
    "collapsed": false
   },
   "outputs": [
    {
     "name": "stdout",
     "output_type": "stream",
     "text": [
      "dict['name']:  xmj\n"
     ]
    }
   ],
   "source": [
    "dict = {'name':'xmj','age' : 17,'namee' : 'manni'}\n",
    "print (\"dict['name']: \",dict['name'])"
   ]
  },
  {
   "cell_type": "code",
   "execution_count": 35,
   "metadata": {
    "collapsed": false
   },
   "outputs": [
    {
     "name": "stdout",
     "output_type": "stream",
     "text": [
      "name 王海\n",
      "Age 17\n",
      "class 计算机一班\n"
     ]
    }
   ],
   "source": [
    "# item方法，item（）方法把字典中每对key与value组成一个元组，并把这些元组放在列表中返回\n",
    "dict = {'name' : '王海','Age':17, 'class' : '计算机一班'}\n",
    "for key,value in dict.items():\n",
    "    print(key, value)"
   ]
  },
  {
   "cell_type": "markdown",
   "metadata": {},
   "source": [
    "### 集合"
   ]
  },
  {
   "cell_type": "markdown",
   "metadata": {},
   "source": [
    "* 集合是一个无序不重复元素的序列，集合的基本功能是进行成员关系测试和删除重复元素"
   ]
  },
  {
   "cell_type": "code",
   "execution_count": 37,
   "metadata": {
    "collapsed": false
   },
   "outputs": [
    {
     "name": "stdout",
     "output_type": "stream",
     "text": [
      "{'Jim', 'Jack', 'Rose', 'Tom', 'Marrry'}\n"
     ]
    }
   ],
   "source": [
    "# 创建集合\n",
    "student = {'Tom', 'Jim', 'Marrry', 'Tom', 'Jack','Rose'}\n",
    "print(student)"
   ]
  },
  {
   "cell_type": "code",
   "execution_count": 41,
   "metadata": {
    "collapsed": false
   },
   "outputs": [
    {
     "name": "stdout",
     "output_type": "stream",
     "text": [
      "Rose 在集合中\n"
     ]
    }
   ],
   "source": [
    "# 成员测试\n",
    "if ('Rose' in student) :\n",
    "    print('Rose 在集合中')\n",
    "else:\n",
    "    print('Rose 不在集合中')"
   ]
  },
  {
   "cell_type": "code",
   "execution_count": 43,
   "metadata": {
    "collapsed": false
   },
   "outputs": [
    {
     "name": "stdout",
     "output_type": "stream",
     "text": [
      "{1, 2, 3, 4, 5}\n",
      "<class 'set'>\n"
     ]
    }
   ],
   "source": [
    "#集合里面的元素是不可重复的\n",
    "s = {1,2,3,1,2,3,4,5}\n",
    "print(s)\n",
    "print(type(s))"
   ]
  },
  {
   "cell_type": "code",
   "execution_count": 45,
   "metadata": {
    "collapsed": false
   },
   "outputs": [
    {
     "name": "stdout",
     "output_type": "stream",
     "text": [
      "{1}\n",
      "<class 'set'>\n"
     ]
    }
   ],
   "source": [
    "s1 = {1}\n",
    "print(s1)\n",
    "print(type(s1))"
   ]
  },
  {
   "cell_type": "code",
   "execution_count": 48,
   "metadata": {
    "collapsed": false
   },
   "outputs": [
    {
     "name": "stdout",
     "output_type": "stream",
     "text": [
      "<class 'dict'>\n",
      "set()\n"
     ]
    }
   ],
   "source": [
    "#如何定义一个空集合\n",
    "s2 = {}\n",
    "print(type(s2))\n",
    "s3 = set([])  \n",
    "print(s3)"
   ]
  },
  {
   "cell_type": "markdown",
   "metadata": {},
   "source": [
    "### 判断语句（要求掌握多条件判断）"
   ]
  },
  {
   "cell_type": "code",
   "execution_count": 52,
   "metadata": {
    "collapsed": false
   },
   "outputs": [
    {
     "name": "stdout",
     "output_type": "stream",
     "text": [
      "year: 2019\n",
      "month: 6\n",
      "day: 27\n",
      "这一天是这一年的第178天\n"
     ]
    }
   ],
   "source": [
    "year = int(input('year: '))\n",
    "month = int(input('month: '))\n",
    "day = int (input('day: '))\n",
    "months = (0, 31, 59,90, 120, 151, 181, 212, 243, 273, 304, 334)\n",
    "if 0 <= month <=12:\n",
    "    sum = months[month - 1]\n",
    "else:\n",
    "    print(\"月份输入错误\")\n",
    "sum += day\n",
    "leap = 0\n",
    "if (year % 400 ==0) or ((year % 4 ==0) and (year % 100 != 0)):\n",
    "    leap = 1\n",
    "if (leap ==  1) and (month > 2):\n",
    "    sum +=1   \n",
    "print('这一天是这一年的第%d天'%sum)"
   ]
  },
  {
   "cell_type": "markdown",
   "metadata": {},
   "source": [
    "### 三目表达式"
   ]
  },
  {
   "cell_type": "code",
   "execution_count": 57,
   "metadata": {
    "collapsed": false
   },
   "outputs": [
    {
     "name": "stdout",
     "output_type": "stream",
     "text": [
      "3\n"
     ]
    }
   ],
   "source": [
    "a = 1\n",
    "b = 2\n",
    "h = \"\"\n",
    "h = a-b if a>b else a+b\n",
    "print(h)"
   ]
  },
  {
   "cell_type": "markdown",
   "metadata": {},
   "source": [
    "### 循环语句"
   ]
  },
  {
   "cell_type": "markdown",
   "metadata": {},
   "source": [
    "* while 语句"
   ]
  },
  {
   "cell_type": "code",
   "execution_count": 59,
   "metadata": {
    "collapsed": false
   },
   "outputs": [
    {
     "name": "stdout",
     "output_type": "stream",
     "text": [
      "1到100之和为:  5050\n"
     ]
    }
   ],
   "source": [
    "sum = 0\n",
    "counter = 1\n",
    "while counter <=100:\n",
    "    sum = sum + counter\n",
    "    counter +=1\n",
    "print(\"1到100之和为: \",sum)"
   ]
  },
  {
   "cell_type": "markdown",
   "metadata": {},
   "source": [
    "* for 语句"
   ]
  },
  {
   "cell_type": "code",
   "execution_count": 61,
   "metadata": {
    "collapsed": false
   },
   "outputs": [
    {
     "name": "stdout",
     "output_type": "stream",
     "text": [
      "55\n"
     ]
    }
   ],
   "source": [
    "sum =  0\n",
    "for x in [1, 2, 3, 4, 5, 6, 7, 8, 9, 10]:\n",
    "    sum = sum + x\n",
    "print(sum)"
   ]
  }
 ],
 "metadata": {
  "kernelspec": {
   "display_name": "Python [conda root]",
   "language": "python",
   "name": "conda-root-py"
  },
  "language_info": {
   "codemirror_mode": {
    "name": "ipython",
    "version": 3
   },
   "file_extension": ".py",
   "mimetype": "text/x-python",
   "name": "python",
   "nbconvert_exporter": "python",
   "pygments_lexer": "ipython3",
   "version": "3.5.2"
  }
 },
 "nbformat": 4,
 "nbformat_minor": 1
}
